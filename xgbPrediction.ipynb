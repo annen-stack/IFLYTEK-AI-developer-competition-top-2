{
 "cells": [
  {
   "cell_type": "markdown",
   "metadata": {},
   "source": [
    "# XGBoost Model\n",
    "* 此 notebook 基于训练得到的 XGBoost 模型对测试数据集进行预测，预测结果保存在 ```Output``` 目录下\n",
    "* 运行此 notebook 前，请确保已经正确运行前置程序 ```testPrep.py```，得到特征文件 ```test_data.csv```，并确保它们和此程序位于同一目录下\n",
    "* 运行此 notebook 前，请确保已经正确运行前置程序 ```xgbModel.ipynb```，并得到保存在 ```Model``` 目录下的模型文件 ```XGB.pickle.dat```\n",
    "\n",
    "## 1. Preparation\n",
    "导入需要的模块"
   ]
  },
  {
   "cell_type": "code",
   "execution_count": 1,
   "metadata": {},
   "outputs": [],
   "source": [
    "import warnings\n",
    "warnings.filterwarnings('ignore') # 取消warning\n",
    "\n",
    "import xgboost as xgb\n",
    "import pandas as pd\n",
    "import numpy as np\n",
    "import pickle"
   ]
  },
  {
   "cell_type": "markdown",
   "metadata": {},
   "source": [
    "## 2. Load Data & Standardization\n",
    "读取数据，并使用 z-score 进行标准化"
   ]
  },
  {
   "cell_type": "code",
   "execution_count": 2,
   "metadata": {},
   "outputs": [],
   "source": [
    "# 读取测试数据\n",
    "test_ = pd.read_csv('test_data.csv')\n",
    "# 填充缺失值\n",
    "test_ = test_.fillna(0)\n",
    "# 定义标准化函数\n",
    "def standardization(df):\n",
    "    newDataFrame = pd.DataFrame(index=df.index)\n",
    "    columns = df.columns.tolist()\n",
    "    for c in columns:\n",
    "        if (c == 'label'):\n",
    "            newDataFrame[c] = df[c].tolist()\n",
    "        else:\n",
    "            d = df[c]\n",
    "            newDataFrame[c] = ((d - np.mean(d)) / (np.std(d))).tolist()\n",
    "    return newDataFrame\n",
    "# 进行标准化\n",
    "test_data =  standardization(test_)"
   ]
  },
  {
   "cell_type": "markdown",
   "metadata": {},
   "source": [
    "## 3. Load Model & Prediction\n",
    "读取训练得到的 XGBoost 模型对测试数据集进行预测，预测结果保存在 ```Output``` 目录下，预测结果文件名为 ```xgb_result.csv```"
   ]
  },
  {
   "cell_type": "code",
   "execution_count": 3,
   "metadata": {},
   "outputs": [],
   "source": [
    "# 读取模型\n",
    "model = pickle.load(open(\"Model/XGB.pickle.dat\", \"rb\"))\n",
    "# 测试数据集置入DMatrix数据结构\n",
    "xgtest=xgb.DMatrix(test_data)\n",
    "# 进行预测\n",
    "preds=model.predict(xgtest,ntree_limit=model.best_iteration) + 1 # +1 是为了将 label 改回从1开始标记\n",
    "np.savetxt('Output/xgb_result.csv',np.c_[range(1,len(test_data)+1),preds],\n",
    "           delimiter=',',header='id,label',comments='',fmt='%d')"
   ]
  },
  {
   "cell_type": "code",
   "execution_count": null,
   "metadata": {},
   "outputs": [],
   "source": []
  }
 ],
 "metadata": {
  "kernelspec": {
   "display_name": "Python 3",
   "language": "python",
   "name": "python3"
  },
  "language_info": {
   "codemirror_mode": {
    "name": "ipython",
    "version": 3
   },
   "file_extension": ".py",
   "mimetype": "text/x-python",
   "name": "python",
   "nbconvert_exporter": "python",
   "pygments_lexer": "ipython3",
   "version": "3.7.6"
  }
 },
 "nbformat": 4,
 "nbformat_minor": 4
}
